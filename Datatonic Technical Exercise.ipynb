{
 "cells": [
  {
   "cell_type": "markdown",
   "metadata": {},
   "source": [
    "# Flight Data Analysis"
   ]
  },
  {
   "cell_type": "markdown",
   "metadata": {},
   "source": [
    "### Introduction\n",
    "\n",
    "The purpose of this notebook is to perform some exploratory analysis on the flights_medium dataset and to hopefully gain some useful insights. In addition, we would like to create a machine learning model which helps to predict the delay in a flight's arrival time.\n"
   ]
  },
  {
   "cell_type": "code",
   "execution_count": 3,
   "metadata": {},
   "outputs": [],
   "source": [
    "import pandas as pd\n",
    "import numpy as np\n",
    "import matplotlib.pyplot as plt\n",
    "%matplotlib inline\n",
    "import statsmodels.api as sm\n",
    "\n",
    "from sklearn.model_selection import train_test_split\n",
    "from sklearn import linear_model\n",
    "from sklearn.ensemble import RandomForestRegressor\n",
    "from sklearn.neighbors import KNeighborsRegressor\n",
    "from sklearn.metrics import mean_squared_error, r2_score\n",
    "\n",
    "from tabulate import tabulate"
   ]
  },
  {
   "cell_type": "markdown",
   "metadata": {},
   "source": [
    "### Import Data"
   ]
  },
  {
   "cell_type": "markdown",
   "metadata": {},
   "source": [
    "The first step is to import the flights data. We create a dataframe called flights."
   ]
  },
  {
   "cell_type": "code",
   "execution_count": 4,
   "metadata": {
    "collapsed": true
   },
   "outputs": [],
   "source": [
    "# Import data\n",
    "flights = pd.read_csv(\"flights_medium.csv\")"
   ]
  },
  {
   "cell_type": "markdown",
   "metadata": {},
   "source": [
    "The first 5 rows in each dataframe are displayed below."
   ]
  },
  {
   "cell_type": "code",
   "execution_count": 5,
   "metadata": {},
   "outputs": [
    {
     "data": {
      "text/html": [
       "<div>\n",
       "<style>\n",
       "    .dataframe thead tr:only-child th {\n",
       "        text-align: right;\n",
       "    }\n",
       "\n",
       "    .dataframe thead th {\n",
       "        text-align: left;\n",
       "    }\n",
       "\n",
       "    .dataframe tbody tr th {\n",
       "        vertical-align: top;\n",
       "    }\n",
       "</style>\n",
       "<table border=\"1\" class=\"dataframe\">\n",
       "  <thead>\n",
       "    <tr style=\"text-align: right;\">\n",
       "      <th></th>\n",
       "      <th>Date</th>\n",
       "      <th>Airline</th>\n",
       "      <th>Airline_code</th>\n",
       "      <th>Arrival_airport</th>\n",
       "      <th>Arrival_state</th>\n",
       "      <th>Departure_Airport</th>\n",
       "      <th>Departure_State</th>\n",
       "      <th>Departure_actual</th>\n",
       "      <th>Departure_delay</th>\n",
       "      <th>Arrival_actual</th>\n",
       "      <th>Arrival_delay</th>\n",
       "      <th>Arrival_schedule</th>\n",
       "      <th>Departure_schedule</th>\n",
       "      <th>DC_Longitude</th>\n",
       "      <th>DC_Latitude</th>\n",
       "      <th>Longitude</th>\n",
       "      <th>Latitude</th>\n",
       "      <th>Route</th>\n",
       "      <th>Path_order</th>\n",
       "    </tr>\n",
       "  </thead>\n",
       "  <tbody>\n",
       "    <tr>\n",
       "      <th>0</th>\n",
       "      <td>2009-04-24</td>\n",
       "      <td>9E</td>\n",
       "      <td>20363</td>\n",
       "      <td>CVG</td>\n",
       "      <td>KY</td>\n",
       "      <td>BDL</td>\n",
       "      <td>CT</td>\n",
       "      <td>1646</td>\n",
       "      <td>-4</td>\n",
       "      <td>1854</td>\n",
       "      <td>-5</td>\n",
       "      <td>1859</td>\n",
       "      <td>1650</td>\n",
       "      <td>-72.68</td>\n",
       "      <td>41.93</td>\n",
       "      <td>-72.68</td>\n",
       "      <td>41.93</td>\n",
       "      <td>CT to KY</td>\n",
       "      <td>1</td>\n",
       "    </tr>\n",
       "    <tr>\n",
       "      <th>1</th>\n",
       "      <td>2009-04-29</td>\n",
       "      <td>9E</td>\n",
       "      <td>20363</td>\n",
       "      <td>CVG</td>\n",
       "      <td>KY</td>\n",
       "      <td>BDL</td>\n",
       "      <td>CT</td>\n",
       "      <td>1640</td>\n",
       "      <td>-10</td>\n",
       "      <td>1834</td>\n",
       "      <td>-25</td>\n",
       "      <td>1859</td>\n",
       "      <td>1650</td>\n",
       "      <td>-72.68</td>\n",
       "      <td>41.93</td>\n",
       "      <td>-72.68</td>\n",
       "      <td>41.93</td>\n",
       "      <td>CT to KY</td>\n",
       "      <td>1</td>\n",
       "    </tr>\n",
       "    <tr>\n",
       "      <th>2</th>\n",
       "      <td>2010-04-30</td>\n",
       "      <td>9E</td>\n",
       "      <td>20363</td>\n",
       "      <td>CVG</td>\n",
       "      <td>KY</td>\n",
       "      <td>BDL</td>\n",
       "      <td>CT</td>\n",
       "      <td>1041</td>\n",
       "      <td>-4</td>\n",
       "      <td>1247</td>\n",
       "      <td>-23</td>\n",
       "      <td>1310</td>\n",
       "      <td>1045</td>\n",
       "      <td>-72.68</td>\n",
       "      <td>41.93</td>\n",
       "      <td>-72.68</td>\n",
       "      <td>41.93</td>\n",
       "      <td>CT to KY</td>\n",
       "      <td>1</td>\n",
       "    </tr>\n",
       "    <tr>\n",
       "      <th>3</th>\n",
       "      <td>2010-04-15</td>\n",
       "      <td>9E</td>\n",
       "      <td>20363</td>\n",
       "      <td>CVG</td>\n",
       "      <td>KY</td>\n",
       "      <td>BDL</td>\n",
       "      <td>CT</td>\n",
       "      <td>1055</td>\n",
       "      <td>10</td>\n",
       "      <td>1310</td>\n",
       "      <td>0</td>\n",
       "      <td>1310</td>\n",
       "      <td>1045</td>\n",
       "      <td>-72.68</td>\n",
       "      <td>41.93</td>\n",
       "      <td>-72.68</td>\n",
       "      <td>41.93</td>\n",
       "      <td>CT to KY</td>\n",
       "      <td>1</td>\n",
       "    </tr>\n",
       "    <tr>\n",
       "      <th>4</th>\n",
       "      <td>2010-12-24</td>\n",
       "      <td>9E</td>\n",
       "      <td>20363</td>\n",
       "      <td>CVG</td>\n",
       "      <td>KY</td>\n",
       "      <td>BDL</td>\n",
       "      <td>CT</td>\n",
       "      <td>1009</td>\n",
       "      <td>-6</td>\n",
       "      <td>1201</td>\n",
       "      <td>-41</td>\n",
       "      <td>1242</td>\n",
       "      <td>1015</td>\n",
       "      <td>-72.68</td>\n",
       "      <td>41.93</td>\n",
       "      <td>-72.68</td>\n",
       "      <td>41.93</td>\n",
       "      <td>CT to KY</td>\n",
       "      <td>1</td>\n",
       "    </tr>\n",
       "  </tbody>\n",
       "</table>\n",
       "</div>"
      ],
      "text/plain": [
       "         Date Airline  Airline_code Arrival_airport Arrival_state  \\\n",
       "0  2009-04-24      9E         20363             CVG            KY   \n",
       "1  2009-04-29      9E         20363             CVG            KY   \n",
       "2  2010-04-30      9E         20363             CVG            KY   \n",
       "3  2010-04-15      9E         20363             CVG            KY   \n",
       "4  2010-12-24      9E         20363             CVG            KY   \n",
       "\n",
       "  Departure_Airport Departure_State  Departure_actual  Departure_delay  \\\n",
       "0               BDL              CT              1646               -4   \n",
       "1               BDL              CT              1640              -10   \n",
       "2               BDL              CT              1041               -4   \n",
       "3               BDL              CT              1055               10   \n",
       "4               BDL              CT              1009               -6   \n",
       "\n",
       "   Arrival_actual  Arrival_delay  Arrival_schedule  Departure_schedule  \\\n",
       "0            1854             -5              1859                1650   \n",
       "1            1834            -25              1859                1650   \n",
       "2            1247            -23              1310                1045   \n",
       "3            1310              0              1310                1045   \n",
       "4            1201            -41              1242                1015   \n",
       "\n",
       "   DC_Longitude  DC_Latitude  Longitude  Latitude     Route  Path_order  \n",
       "0        -72.68        41.93     -72.68     41.93  CT to KY           1  \n",
       "1        -72.68        41.93     -72.68     41.93  CT to KY           1  \n",
       "2        -72.68        41.93     -72.68     41.93  CT to KY           1  \n",
       "3        -72.68        41.93     -72.68     41.93  CT to KY           1  \n",
       "4        -72.68        41.93     -72.68     41.93  CT to KY           1  "
      ]
     },
     "execution_count": 5,
     "metadata": {},
     "output_type": "execute_result"
    }
   ],
   "source": [
    "flights.head()"
   ]
  },
  {
   "cell_type": "markdown",
   "metadata": {},
   "source": [
    "### EDA"
   ]
  },
  {
   "cell_type": "markdown",
   "metadata": {},
   "source": [
    "Before doing any analysis, it is worth checking whether there are any missing values. As shown below, there aren't any missing values. This makes life easier for us!"
   ]
  },
  {
   "cell_type": "code",
   "execution_count": 6,
   "metadata": {},
   "outputs": [
    {
     "data": {
      "text/plain": [
       "False"
      ]
     },
     "execution_count": 6,
     "metadata": {},
     "output_type": "execute_result"
    }
   ],
   "source": [
    "flights.isnull().values.any()"
   ]
  },
  {
   "cell_type": "markdown",
   "metadata": {},
   "source": [
    "The first step of our analysis is to determine the distribution of delays. Below, we plot a CDF plot as well as a histogram to help us visualise the delays distribution. "
   ]
  },
  {
   "cell_type": "code",
   "execution_count": 7,
   "metadata": {},
   "outputs": [
    {
     "data": {
      "image/png": "[encoded data removed]",
      "text/plain": [
       "<matplotlib.figure.Figure at 0x1c1ef80cc0>"
      ]
     },
     "metadata": {},
     "output_type": "display_data"
    }
   ],
   "source": [
    "fig, ax = plt.subplots(figsize = (12,6), ncols = 2)\n",
    "\n",
    "# CDF Plot\n",
    "ecdf = sm.distributions.ECDF(flights[\"Arrival_delay\"])\n",
    "x = np.linspace(min(flights[\"Arrival_delay\"]), max(flights[\"Arrival_delay\"]))\n",
    "y = ecdf(x)\n",
    "\n",
    "ax[0].step(x,y, color = \"red\")\n",
    "ax[0].axvline(x = 20, ls = \"dashed\")\n",
    "ax[0].set_xlabel(\"Delay (mins)\")\n",
    "ax[0].set_ylabel(\"CDF\")\n",
    "\n",
    "# Histogram\n",
    "ax[1].hist(flights[\"Arrival_delay\"], bins = 10, color = \"red\")\n",
    "ax[1].set_xlabel(\"Delay (mins)\")\n",
    "ax[1].set_ylabel(\"Number of instances\")\n",
    "\n",
    "fig.subplots_adjust(wspace=0.3)\n",
    "\n",
    "plt.show()"
   ]
  },
  {
   "cell_type": "markdown",
   "metadata": {},
   "source": [
    "As you would probably expect, a large concentration of flights are delayed by a very small amount; the CDF plot suggests around 90% of flights are delayed by less than 20 mins (the dashed blue vertical line is situated at 20 mins). A similar distribution is also seen in the histogram on the right. This suggests that airlines/airports are doing a reasonable job in ensuring that delays are minimised."
   ]
  },
  {
   "cell_type": "markdown",
   "metadata": {},
   "source": [
    "One question which immediately springs to mind is to identify which airlines have the largest delays on average. Below, we group the data by \"Airline\" and then calculate the mean of the \"Arrival_delay\" column. This gives us the mean delay for each airline. We then sort the airlines in decreasing order of delay and obtain the top 10 results."
   ]
  },
  {
   "cell_type": "code",
   "execution_count": 8,
   "metadata": {},
   "outputs": [
    {
     "data": {
      "text/plain": [
       "Airline\n",
       "NW    11.560257\n",
       "EV     8.943964\n",
       "XE     8.852151\n",
       "CO     8.678047\n",
       "FL     8.473449\n",
       "B6     8.462789\n",
       "VX     8.300000\n",
       "AA     7.796541\n",
       "MQ     7.138009\n",
       "TZ     7.090064\n",
       "Name: Arrival_delay, dtype: float64"
      ]
     },
     "execution_count": 8,
     "metadata": {},
     "output_type": "execute_result"
    }
   ],
   "source": [
    "# Mean arrival delay by Airline\n",
    "airline_delay = flights.groupby(\"Airline\")[\"Arrival_delay\"].mean()\n",
    "airline_delay = airline_delay.sort_values(ascending = False).head(10)\n",
    "airline_delay"
   ]
  },
  {
   "cell_type": "markdown",
   "metadata": {},
   "source": [
    "For illustrative purposes, a bar chart of the above result has been displayed below. As we can see, airline NW has the largest mean delay of 11.6 minutes."
   ]
  },
  {
   "cell_type": "code",
   "execution_count": 9,
   "metadata": {},
   "outputs": [
    {
     "data": {
      "image/png": "[encoded data removed]",
      "text/plain": [
       "<matplotlib.figure.Figure at 0x1c1ef805c0>"
      ]
     },
     "metadata": {},
     "output_type": "display_data"
    }
   ],
   "source": [
    "# Graph to illustrate the top 10 airlines which largest mean arrival delay \n",
    "fig, ax = plt.subplots(figsize = (6,6))\n",
    "airline_delay.plot(kind = \"bar\", color = \"red\")\n",
    "ax.set_ylabel(\"Delay (mins)\")\n",
    "plt.show()"
   ]
  },
  {
   "cell_type": "markdown",
   "metadata": {},
   "source": [
    "We can then repeat this same process but for \"Departure_Airport\" rather than airline. This is done below."
   ]
  },
  {
   "cell_type": "code",
   "execution_count": 10,
   "metadata": {},
   "outputs": [
    {
     "data": {
      "text/html": [
       "<div>\n",
       "<style>\n",
       "    .dataframe thead tr:only-child th {\n",
       "        text-align: right;\n",
       "    }\n",
       "\n",
       "    .dataframe thead th {\n",
       "        text-align: left;\n",
       "    }\n",
       "\n",
       "    .dataframe tbody tr th {\n",
       "        vertical-align: top;\n",
       "    }\n",
       "</style>\n",
       "<table border=\"1\" class=\"dataframe\">\n",
       "  <thead>\n",
       "    <tr style=\"text-align: right;\">\n",
       "      <th></th>\n",
       "      <th>Departure_Airport</th>\n",
       "      <th>Arrival_delay</th>\n",
       "    </tr>\n",
       "  </thead>\n",
       "  <tbody>\n",
       "    <tr>\n",
       "      <th>0</th>\n",
       "      <td>ACT</td>\n",
       "      <td>189.0</td>\n",
       "    </tr>\n",
       "    <tr>\n",
       "      <th>1</th>\n",
       "      <td>LEX</td>\n",
       "      <td>54.0</td>\n",
       "    </tr>\n",
       "    <tr>\n",
       "      <th>2</th>\n",
       "      <td>GPT</td>\n",
       "      <td>53.0</td>\n",
       "    </tr>\n",
       "    <tr>\n",
       "      <th>3</th>\n",
       "      <td>XNA</td>\n",
       "      <td>49.5</td>\n",
       "    </tr>\n",
       "    <tr>\n",
       "      <th>4</th>\n",
       "      <td>CAK</td>\n",
       "      <td>36.0</td>\n",
       "    </tr>\n",
       "  </tbody>\n",
       "</table>\n",
       "</div>"
      ],
      "text/plain": [
       "  Departure_Airport  Arrival_delay\n",
       "0               ACT          189.0\n",
       "1               LEX           54.0\n",
       "2               GPT           53.0\n",
       "3               XNA           49.5\n",
       "4               CAK           36.0"
      ]
     },
     "execution_count": 10,
     "metadata": {},
     "output_type": "execute_result"
    }
   ],
   "source": [
    "# Mean Arrival Delay by Departure Airport\n",
    "dep_delay = flights.groupby(\"Departure_Airport\")[\"Arrival_delay\"].mean()\n",
    "dep_delay = dep_delay.sort_values(ascending = False).reset_index()\n",
    "dep_delay.head()"
   ]
  },
  {
   "cell_type": "markdown",
   "metadata": {},
   "source": [
    "It seems strange that flights leaving from airport ACT have such a large delay in their arrival time. One reason to explain this is that maybe there are very few flights leaving from this airport and hence the mean delay time is just based on a very small sample size. To investigate this claim, let's also see how many flights leave each airport. We will have to create a separate dataframe which contains the number of departing flights from each airport. This is done below."
   ]
  },
  {
   "cell_type": "code",
   "execution_count": 11,
   "metadata": {},
   "outputs": [
    {
     "data": {
      "text/html": [
       "<div>\n",
       "<style>\n",
       "    .dataframe thead tr:only-child th {\n",
       "        text-align: right;\n",
       "    }\n",
       "\n",
       "    .dataframe thead th {\n",
       "        text-align: left;\n",
       "    }\n",
       "\n",
       "    .dataframe tbody tr th {\n",
       "        vertical-align: top;\n",
       "    }\n",
       "</style>\n",
       "<table border=\"1\" class=\"dataframe\">\n",
       "  <thead>\n",
       "    <tr style=\"text-align: right;\">\n",
       "      <th></th>\n",
       "      <th>Departure_Airport</th>\n",
       "      <th>Number of Flights</th>\n",
       "    </tr>\n",
       "  </thead>\n",
       "  <tbody>\n",
       "    <tr>\n",
       "      <th>0</th>\n",
       "      <td>ABE</td>\n",
       "      <td>2101</td>\n",
       "    </tr>\n",
       "    <tr>\n",
       "      <th>1</th>\n",
       "      <td>ABQ</td>\n",
       "      <td>34524</td>\n",
       "    </tr>\n",
       "    <tr>\n",
       "      <th>2</th>\n",
       "      <td>ACK</td>\n",
       "      <td>32</td>\n",
       "    </tr>\n",
       "    <tr>\n",
       "      <th>3</th>\n",
       "      <td>ACT</td>\n",
       "      <td>1</td>\n",
       "    </tr>\n",
       "    <tr>\n",
       "      <th>4</th>\n",
       "      <td>ACY</td>\n",
       "      <td>139</td>\n",
       "    </tr>\n",
       "  </tbody>\n",
       "</table>\n",
       "</div>"
      ],
      "text/plain": [
       "  Departure_Airport  Number of Flights\n",
       "0               ABE               2101\n",
       "1               ABQ              34524\n",
       "2               ACK                 32\n",
       "3               ACT                  1\n",
       "4               ACY                139"
      ]
     },
     "execution_count": 11,
     "metadata": {},
     "output_type": "execute_result"
    }
   ],
   "source": [
    "# Number of flights for each Departure Airport\n",
    "dep_count = flights.groupby(\"Departure_Airport\")[\"Arrival_delay\"].count().reset_index()\n",
    "dep_count = dep_count.rename(columns = {\"Arrival_delay\":\"Number of Flights\"})\n",
    "dep_count.head()"
   ]
  },
  {
   "cell_type": "markdown",
   "metadata": {},
   "source": [
    "The next step is to merge the 2 dataframes together by using the common \"Departure_Airport\" column. This gives us a dataframe containing each airport from which a flight departed, the mean delay in arrival time from each airport and the number of flight departures from each airport. We then sort the dataframe in decreasing order of delay. As we initially hypothesised, airport ACT has only flight departing form it (which was significantly delayed). This explains why the mean delay from this airport is so large. This similarly explains why a number of other airports have such a large mean delay."
   ]
  },
  {
   "cell_type": "code",
   "execution_count": 12,
   "metadata": {},
   "outputs": [
    {
     "data": {
      "text/html": [
       "<div>\n",
       "<style>\n",
       "    .dataframe thead tr:only-child th {\n",
       "        text-align: right;\n",
       "    }\n",
       "\n",
       "    .dataframe thead th {\n",
       "        text-align: left;\n",
       "    }\n",
       "\n",
       "    .dataframe tbody tr th {\n",
       "        vertical-align: top;\n",
       "    }\n",
       "</style>\n",
       "<table border=\"1\" class=\"dataframe\">\n",
       "  <thead>\n",
       "    <tr style=\"text-align: right;\">\n",
       "      <th></th>\n",
       "      <th>Departure_Airport</th>\n",
       "      <th>Arrival_delay</th>\n",
       "      <th>Number of Flights</th>\n",
       "    </tr>\n",
       "  </thead>\n",
       "  <tbody>\n",
       "    <tr>\n",
       "      <th>0</th>\n",
       "      <td>ACT</td>\n",
       "      <td>189.000000</td>\n",
       "      <td>1</td>\n",
       "    </tr>\n",
       "    <tr>\n",
       "      <th>1</th>\n",
       "      <td>LEX</td>\n",
       "      <td>54.000000</td>\n",
       "      <td>1</td>\n",
       "    </tr>\n",
       "    <tr>\n",
       "      <th>2</th>\n",
       "      <td>GPT</td>\n",
       "      <td>53.000000</td>\n",
       "      <td>1</td>\n",
       "    </tr>\n",
       "    <tr>\n",
       "      <th>3</th>\n",
       "      <td>XNA</td>\n",
       "      <td>49.500000</td>\n",
       "      <td>2</td>\n",
       "    </tr>\n",
       "    <tr>\n",
       "      <th>4</th>\n",
       "      <td>CAK</td>\n",
       "      <td>36.000000</td>\n",
       "      <td>2</td>\n",
       "    </tr>\n",
       "    <tr>\n",
       "      <th>5</th>\n",
       "      <td>CRW</td>\n",
       "      <td>35.750000</td>\n",
       "      <td>4</td>\n",
       "    </tr>\n",
       "    <tr>\n",
       "      <th>6</th>\n",
       "      <td>MOB</td>\n",
       "      <td>30.000000</td>\n",
       "      <td>1</td>\n",
       "    </tr>\n",
       "    <tr>\n",
       "      <th>7</th>\n",
       "      <td>LMT</td>\n",
       "      <td>20.796053</td>\n",
       "      <td>152</td>\n",
       "    </tr>\n",
       "    <tr>\n",
       "      <th>8</th>\n",
       "      <td>HOU</td>\n",
       "      <td>19.728000</td>\n",
       "      <td>125</td>\n",
       "    </tr>\n",
       "    <tr>\n",
       "      <th>9</th>\n",
       "      <td>PHF</td>\n",
       "      <td>18.243243</td>\n",
       "      <td>37</td>\n",
       "    </tr>\n",
       "  </tbody>\n",
       "</table>\n",
       "</div>"
      ],
      "text/plain": [
       "  Departure_Airport  Arrival_delay  Number of Flights\n",
       "0               ACT     189.000000                  1\n",
       "1               LEX      54.000000                  1\n",
       "2               GPT      53.000000                  1\n",
       "3               XNA      49.500000                  2\n",
       "4               CAK      36.000000                  2\n",
       "5               CRW      35.750000                  4\n",
       "6               MOB      30.000000                  1\n",
       "7               LMT      20.796053                152\n",
       "8               HOU      19.728000                125\n",
       "9               PHF      18.243243                 37"
      ]
     },
     "execution_count": 12,
     "metadata": {},
     "output_type": "execute_result"
    }
   ],
   "source": [
    "# Merging the 2 dataframes to get arrival delay and number of flights for each departure airport\n",
    "dep_delay_join = dep_delay.merge(dep_count, on = \"Departure_Airport\")\n",
    "dep_delay_join = dep_delay_join.sort_values(\"Arrival_delay\", ascending = False)\n",
    "dep_delay_join.head(10)\n"
   ]
  },
  {
   "cell_type": "markdown",
   "metadata": {},
   "source": [
    "To get a better idea of which airports are underperforming, it might be worth filtering the dataframe by airports which have more than 100 flights departing it. This is done below. As can be seen, airports LMT, HOU and GEG seem to have the most significant delays to its departing flights. "
   ]
  },
  {
   "cell_type": "code",
   "execution_count": 13,
   "metadata": {},
   "outputs": [
    {
     "data": {
      "text/html": [
       "<div>\n",
       "<style>\n",
       "    .dataframe thead tr:only-child th {\n",
       "        text-align: right;\n",
       "    }\n",
       "\n",
       "    .dataframe thead th {\n",
       "        text-align: left;\n",
       "    }\n",
       "\n",
       "    .dataframe tbody tr th {\n",
       "        vertical-align: top;\n",
       "    }\n",
       "</style>\n",
       "<table border=\"1\" class=\"dataframe\">\n",
       "  <thead>\n",
       "    <tr style=\"text-align: right;\">\n",
       "      <th></th>\n",
       "      <th>Departure_Airport</th>\n",
       "      <th>Arrival_delay</th>\n",
       "      <th>Number of Flights</th>\n",
       "    </tr>\n",
       "  </thead>\n",
       "  <tbody>\n",
       "    <tr>\n",
       "      <th>7</th>\n",
       "      <td>LMT</td>\n",
       "      <td>20.796053</td>\n",
       "      <td>152</td>\n",
       "    </tr>\n",
       "    <tr>\n",
       "      <th>8</th>\n",
       "      <td>HOU</td>\n",
       "      <td>19.728000</td>\n",
       "      <td>125</td>\n",
       "    </tr>\n",
       "    <tr>\n",
       "      <th>11</th>\n",
       "      <td>GEG</td>\n",
       "      <td>15.639241</td>\n",
       "      <td>158</td>\n",
       "    </tr>\n",
       "    <tr>\n",
       "      <th>12</th>\n",
       "      <td>TUL</td>\n",
       "      <td>12.747967</td>\n",
       "      <td>123</td>\n",
       "    </tr>\n",
       "    <tr>\n",
       "      <th>13</th>\n",
       "      <td>CIC</td>\n",
       "      <td>11.824242</td>\n",
       "      <td>660</td>\n",
       "    </tr>\n",
       "  </tbody>\n",
       "</table>\n",
       "</div>"
      ],
      "text/plain": [
       "   Departure_Airport  Arrival_delay  Number of Flights\n",
       "7                LMT      20.796053                152\n",
       "8                HOU      19.728000                125\n",
       "11               GEG      15.639241                158\n",
       "12               TUL      12.747967                123\n",
       "13               CIC      11.824242                660"
      ]
     },
     "execution_count": 13,
     "metadata": {},
     "output_type": "execute_result"
    }
   ],
   "source": [
    "# Selecting departure airports which have more than 100 flights\n",
    "dep_delay_join[dep_delay_join[\"Number of Flights\"] > 100].head(5)"
   ]
  },
  {
   "cell_type": "markdown",
   "metadata": {},
   "source": [
    "We will now group by route and see which routes have the largest mean delay. This is similar to what we did previously so all the code is in one cell. We created 2 dataframes and merged them to give us the route, mean delay and number of flights. We then filter the dataframe to show the routes which have more than 100 flights as this would give us a more reliable measure of which routes have more significant delays than others."
   ]
  },
  {
   "cell_type": "code",
   "execution_count": 14,
   "metadata": {},
   "outputs": [
    {
     "data": {
      "text/html": [
       "<div>\n",
       "<style>\n",
       "    .dataframe thead tr:only-child th {\n",
       "        text-align: right;\n",
       "    }\n",
       "\n",
       "    .dataframe thead th {\n",
       "        text-align: left;\n",
       "    }\n",
       "\n",
       "    .dataframe tbody tr th {\n",
       "        vertical-align: top;\n",
       "    }\n",
       "</style>\n",
       "<table border=\"1\" class=\"dataframe\">\n",
       "  <thead>\n",
       "    <tr style=\"text-align: right;\">\n",
       "      <th></th>\n",
       "      <th>Route</th>\n",
       "      <th>Arrival_delay</th>\n",
       "      <th>Number of Flights</th>\n",
       "    </tr>\n",
       "  </thead>\n",
       "  <tbody>\n",
       "    <tr>\n",
       "      <th>6</th>\n",
       "      <td>NJ to OK</td>\n",
       "      <td>26.550147</td>\n",
       "      <td>678</td>\n",
       "    </tr>\n",
       "    <tr>\n",
       "      <th>10</th>\n",
       "      <td>NJ to GA</td>\n",
       "      <td>17.579463</td>\n",
       "      <td>3165</td>\n",
       "    </tr>\n",
       "    <tr>\n",
       "      <th>11</th>\n",
       "      <td>MA to GA</td>\n",
       "      <td>16.746082</td>\n",
       "      <td>319</td>\n",
       "    </tr>\n",
       "    <tr>\n",
       "      <th>12</th>\n",
       "      <td>IL to GA</td>\n",
       "      <td>16.709949</td>\n",
       "      <td>3327</td>\n",
       "    </tr>\n",
       "    <tr>\n",
       "      <th>13</th>\n",
       "      <td>VA to OK</td>\n",
       "      <td>16.093750</td>\n",
       "      <td>128</td>\n",
       "    </tr>\n",
       "    <tr>\n",
       "      <th>14</th>\n",
       "      <td>NJ to PA</td>\n",
       "      <td>15.418251</td>\n",
       "      <td>263</td>\n",
       "    </tr>\n",
       "    <tr>\n",
       "      <th>17</th>\n",
       "      <td>MI to CA</td>\n",
       "      <td>14.752427</td>\n",
       "      <td>618</td>\n",
       "    </tr>\n",
       "    <tr>\n",
       "      <th>18</th>\n",
       "      <td>WI to PA</td>\n",
       "      <td>13.974790</td>\n",
       "      <td>119</td>\n",
       "    </tr>\n",
       "    <tr>\n",
       "      <th>19</th>\n",
       "      <td>VA to FL</td>\n",
       "      <td>13.866561</td>\n",
       "      <td>1259</td>\n",
       "    </tr>\n",
       "    <tr>\n",
       "      <th>20</th>\n",
       "      <td>GA to OK</td>\n",
       "      <td>13.665075</td>\n",
       "      <td>1466</td>\n",
       "    </tr>\n",
       "  </tbody>\n",
       "</table>\n",
       "</div>"
      ],
      "text/plain": [
       "       Route  Arrival_delay  Number of Flights\n",
       "6   NJ to OK      26.550147                678\n",
       "10  NJ to GA      17.579463               3165\n",
       "11  MA to GA      16.746082                319\n",
       "12  IL to GA      16.709949               3327\n",
       "13  VA to OK      16.093750                128\n",
       "14  NJ to PA      15.418251                263\n",
       "17  MI to CA      14.752427                618\n",
       "18  WI to PA      13.974790                119\n",
       "19  VA to FL      13.866561               1259\n",
       "20  GA to OK      13.665075               1466"
      ]
     },
     "execution_count": 14,
     "metadata": {},
     "output_type": "execute_result"
    }
   ],
   "source": [
    "# Mean Arrival delay for each route\n",
    "route_delay = flights.groupby(\"Route\")[\"Arrival_delay\"].mean().sort_values(ascending = False).reset_index()\n",
    "\n",
    "# Number of flights for each route\n",
    "route_count = flights.groupby(\"Route\")[\"Arrival_delay\"].count().reset_index()\n",
    "\n",
    "# Rename column\n",
    "route_count = route_count.rename(columns = {\"Arrival_delay\":\"Number of Flights\"})\n",
    "\n",
    "# Merge the 2 dataframes to give us arrival delay and number of flights for each route\n",
    "route_delay_join = route_delay.merge(route_count, on = \"Route\")\n",
    "\n",
    "# Filter to give us routes with more than 100 flights\n",
    "route_delay_join[route_delay_join[\"Number of Flights\"] > 100].head(10)"
   ]
  },
  {
   "cell_type": "markdown",
   "metadata": {},
   "source": [
    "As we can see, the route which has a significant number of flights and largest delay time is  NJ to OK.  \n",
    "\n",
    "The next step of our analysis is to investigate how flight delays vary across the year. It would be worth seeing whether delays are more likey to be larger during certain days of the week, months or even years. To do this, we shall convert the Date column to the relevant format and then group the observations by day, month and year. After grouping, we then calculate the mean delay.\n",
    "\n",
    "We shall put all this code in the cell below."
   ]
  },
  {
   "cell_type": "code",
   "execution_count": 15,
   "metadata": {},
   "outputs": [
    {
     "data": {
      "image/png": "[encoded data removed]",
      "text/plain": [
       "<matplotlib.figure.Figure at 0x1c14a90eb8>"
      ]
     },
     "metadata": {},
     "output_type": "display_data"
    }
   ],
   "source": [
    "# Convert Date to relevant format\n",
    "flights[\"Date\"] = pd.to_datetime(flights[\"Date\"])\n",
    "\n",
    "# Group by day of the week\n",
    "delay_day = flights.groupby(flights[\"Date\"].dt.weekday)[\"Arrival_delay\"]\n",
    "delay_day = delay_day.describe().reset_index()\n",
    "\n",
    "# Group by month\n",
    "delay_month =flights.groupby(flights[\"Date\"].dt.month)[\"Arrival_delay\"]\n",
    "delay_month = delay_month.describe().reset_index()\n",
    "\n",
    "# Group by year\n",
    "delay_year =flights.groupby(flights[\"Date\"].dt.year)[\"Arrival_delay\"]\n",
    "delay_year = delay_year.describe().reset_index()\n",
    "\n",
    "\n",
    "\n",
    "\n",
    "fig, ax = plt.subplots(nrows = 3, figsize = (10,10))\n",
    "\n",
    "# Plot mean delay vs day of the week\n",
    "ax[0].plot(delay_day[\"Date\"], delay_day[\"mean\"], color = \"red\")\n",
    "ax[0].set_xlabel(\"Day of the Week\")\n",
    "ax[0].set_ylabel(\"Mean delay (mins)\")\n",
    "ax[0].set_xticklabels([\" \",\"Monday\", \"Tuesday\", \"Wednesday\", \"Thursday\", \"Friday\", \"Saturday\", \"Sunday\"])\n",
    "\n",
    "# Plot mean delay vs month\n",
    "ax[1].plot(delay_month[\"Date\"], delay_month[\"mean\"], color = \"red\")\n",
    "ax[1].set_xlabel(\"Month\")\n",
    "ax[1].set_ylabel(\"Mean delay (mins)\")\n",
    "ax[1].set_xticks(np.arange(1,13))\n",
    "\n",
    "# Plot mean delay vs year\n",
    "ax[2].plot(delay_year[\"Date\"], delay_year[\"mean\"], color = \"red\")\n",
    "ax[2].set_xlabel(\"Year\")\n",
    "ax[2].set_ylabel(\"Mean delay (mins)\")\n",
    "ax[2].set_xticks(np.arange(2002,2013))\n",
    "\n",
    "fig.subplots_adjust(hspace=0.5)\n",
    "\n",
    "plt.show()"
   ]
  },
  {
   "cell_type": "markdown",
   "metadata": {},
   "source": [
    "The first plot suggests that Thursday and Friday tend to have the largest flight delays, whereas Saturday has the least.\n",
    "\n",
    "From the month graph above, it seems that the mean delay time is significantly larger duing the June, July, August and December in comparison to other months. During the Summer, you would expect airports and flights to be more crowded as people are trying to take advantage of their Summer holidays by travelling to other countries. The increase in travellers is likely to cause more logistical issues and hence cause more delays. A similar explanation can be provided during December as people will be travelling to meet families/friends for Christmas.\n",
    "\n",
    "The trend shown by the year graph is very interesting! It seems that there was a increasing trend in delay time between the years 2001 and 2007, but since then there has generally been a downards trend. One possible reason to explain this is that in the immediate years after 9/11, there would have been an increase in security which may have led to more delays in getting passengers through the airport and onto their flights. However, after a few years of these added security measures being in place, airports and passengers may have learnt how to be more efficient with it.\n"
   ]
  },
  {
   "cell_type": "markdown",
   "metadata": {},
   "source": [
    "## Modelling"
   ]
  },
  {
   "cell_type": "markdown",
   "metadata": {},
   "source": [
    "The second part of our analysis concerns modelling. We would like to create a machine learning model that accurately predicts a flight's delay time. As this variable is continous, this is a regression problem.  "
   ]
  },
  {
   "cell_type": "markdown",
   "metadata": {},
   "source": [
    "Rather than considering the Date variable on its own, it would be worth breaking this down into 2 variables - day of the week and month. Year perhaps wouldn't be as useful to use, as if new and unseen data from a more recent year (eg, 2018) was inputted into the fitted model, the predicted result wouldn't be very accurate (the model is only fitted on data between 2002 and 2012).  Below, we create 2 new columns (Day and Month)."
   ]
  },
  {
   "cell_type": "code",
   "execution_count": 16,
   "metadata": {
    "collapsed": true
   },
   "outputs": [],
   "source": [
    "# Add Day column\n",
    "flights[\"Day\"] = flights[\"Date\"].dt.weekday\n",
    "\n",
    "# Add Month column\n",
    "flights[\"Month\"] = flights[\"Date\"].dt.month"
   ]
  },
  {
   "cell_type": "markdown",
   "metadata": {},
   "source": [
    "Also, it seems that the \"DC_Longitude\" column is exactly the same as the \"Longitude\" column and that the \"DC_Latitude\" column is exactly the same as the \"Latitude\" column. However, we should ensure that this is true. To do this, we subtract the 2 pairs of similar columns and check that the sum of the values is 0. "
   ]
  },
  {
   "cell_type": "code",
   "execution_count": 17,
   "metadata": {},
   "outputs": [
    {
     "name": "stdout",
     "output_type": "stream",
     "text": [
      "0.0\n",
      "0.0\n"
     ]
    }
   ],
   "source": [
    "print((flights[\"DC_Longitude\"] - flights[\"Longitude\"]).sum())\n",
    "print((flights[\"DC_Latitude\"] - flights[\"Latitude\"]).sum())"
   ]
  },
  {
   "cell_type": "markdown",
   "metadata": {},
   "source": [
    "Hence, the \"DC_Longitude\" column is exactly the same as the \"Longitude\" column, and the \"DC_Latitude\" column is exactly the same as the \"Latitude\" column. So we shall drop the \"DC_Longitude\" and \"DC_Latitude\" columns.\n",
    "\n",
    "In addition, it would make sense to drop the \"Arrival_actual\" column. We are trying to predict a flight's arrival delay time so it would be pointless to use the flight's actual arrival time as a feature as the delay time would just be Arrival_actual - Arrival_schedule (both of which would be known to us); there would be no point having a machine learning model. We also drop the \"Path_order\" column as it is just a column of ones. It doesn't add anything useful to the model."
   ]
  },
  {
   "cell_type": "code",
   "execution_count": 18,
   "metadata": {},
   "outputs": [
    {
     "data": {
      "text/html": [
       "<div>\n",
       "<style>\n",
       "    .dataframe thead tr:only-child th {\n",
       "        text-align: right;\n",
       "    }\n",
       "\n",
       "    .dataframe thead th {\n",
       "        text-align: left;\n",
       "    }\n",
       "\n",
       "    .dataframe tbody tr th {\n",
       "        vertical-align: top;\n",
       "    }\n",
       "</style>\n",
       "<table border=\"1\" class=\"dataframe\">\n",
       "  <thead>\n",
       "    <tr style=\"text-align: right;\">\n",
       "      <th></th>\n",
       "      <th>Date</th>\n",
       "      <th>Airline</th>\n",
       "      <th>Airline_code</th>\n",
       "      <th>Arrival_airport</th>\n",
       "      <th>Arrival_state</th>\n",
       "      <th>Departure_Airport</th>\n",
       "      <th>Departure_State</th>\n",
       "      <th>Departure_actual</th>\n",
       "      <th>Departure_delay</th>\n",
       "      <th>Arrival_delay</th>\n",
       "      <th>Arrival_schedule</th>\n",
       "      <th>Departure_schedule</th>\n",
       "      <th>Longitude</th>\n",
       "      <th>Latitude</th>\n",
       "      <th>Route</th>\n",
       "      <th>Day</th>\n",
       "      <th>Month</th>\n",
       "    </tr>\n",
       "  </thead>\n",
       "  <tbody>\n",
       "    <tr>\n",
       "      <th>0</th>\n",
       "      <td>2009-04-24</td>\n",
       "      <td>9E</td>\n",
       "      <td>20363</td>\n",
       "      <td>CVG</td>\n",
       "      <td>KY</td>\n",
       "      <td>BDL</td>\n",
       "      <td>CT</td>\n",
       "      <td>1646</td>\n",
       "      <td>-4</td>\n",
       "      <td>-5</td>\n",
       "      <td>1859</td>\n",
       "      <td>1650</td>\n",
       "      <td>-72.68</td>\n",
       "      <td>41.93</td>\n",
       "      <td>CT to KY</td>\n",
       "      <td>4</td>\n",
       "      <td>4</td>\n",
       "    </tr>\n",
       "    <tr>\n",
       "      <th>1</th>\n",
       "      <td>2009-04-29</td>\n",
       "      <td>9E</td>\n",
       "      <td>20363</td>\n",
       "      <td>CVG</td>\n",
       "      <td>KY</td>\n",
       "      <td>BDL</td>\n",
       "      <td>CT</td>\n",
       "      <td>1640</td>\n",
       "      <td>-10</td>\n",
       "      <td>-25</td>\n",
       "      <td>1859</td>\n",
       "      <td>1650</td>\n",
       "      <td>-72.68</td>\n",
       "      <td>41.93</td>\n",
       "      <td>CT to KY</td>\n",
       "      <td>2</td>\n",
       "      <td>4</td>\n",
       "    </tr>\n",
       "    <tr>\n",
       "      <th>2</th>\n",
       "      <td>2010-04-30</td>\n",
       "      <td>9E</td>\n",
       "      <td>20363</td>\n",
       "      <td>CVG</td>\n",
       "      <td>KY</td>\n",
       "      <td>BDL</td>\n",
       "      <td>CT</td>\n",
       "      <td>1041</td>\n",
       "      <td>-4</td>\n",
       "      <td>-23</td>\n",
       "      <td>1310</td>\n",
       "      <td>1045</td>\n",
       "      <td>-72.68</td>\n",
       "      <td>41.93</td>\n",
       "      <td>CT to KY</td>\n",
       "      <td>4</td>\n",
       "      <td>4</td>\n",
       "    </tr>\n",
       "    <tr>\n",
       "      <th>3</th>\n",
       "      <td>2010-04-15</td>\n",
       "      <td>9E</td>\n",
       "      <td>20363</td>\n",
       "      <td>CVG</td>\n",
       "      <td>KY</td>\n",
       "      <td>BDL</td>\n",
       "      <td>CT</td>\n",
       "      <td>1055</td>\n",
       "      <td>10</td>\n",
       "      <td>0</td>\n",
       "      <td>1310</td>\n",
       "      <td>1045</td>\n",
       "      <td>-72.68</td>\n",
       "      <td>41.93</td>\n",
       "      <td>CT to KY</td>\n",
       "      <td>3</td>\n",
       "      <td>4</td>\n",
       "    </tr>\n",
       "    <tr>\n",
       "      <th>4</th>\n",
       "      <td>2010-12-24</td>\n",
       "      <td>9E</td>\n",
       "      <td>20363</td>\n",
       "      <td>CVG</td>\n",
       "      <td>KY</td>\n",
       "      <td>BDL</td>\n",
       "      <td>CT</td>\n",
       "      <td>1009</td>\n",
       "      <td>-6</td>\n",
       "      <td>-41</td>\n",
       "      <td>1242</td>\n",
       "      <td>1015</td>\n",
       "      <td>-72.68</td>\n",
       "      <td>41.93</td>\n",
       "      <td>CT to KY</td>\n",
       "      <td>4</td>\n",
       "      <td>12</td>\n",
       "    </tr>\n",
       "  </tbody>\n",
       "</table>\n",
       "</div>"
      ],
      "text/plain": [
       "        Date Airline  Airline_code Arrival_airport Arrival_state  \\\n",
       "0 2009-04-24      9E         20363             CVG            KY   \n",
       "1 2009-04-29      9E         20363             CVG            KY   \n",
       "2 2010-04-30      9E         20363             CVG            KY   \n",
       "3 2010-04-15      9E         20363             CVG            KY   \n",
       "4 2010-12-24      9E         20363             CVG            KY   \n",
       "\n",
       "  Departure_Airport Departure_State  Departure_actual  Departure_delay  \\\n",
       "0               BDL              CT              1646               -4   \n",
       "1               BDL              CT              1640              -10   \n",
       "2               BDL              CT              1041               -4   \n",
       "3               BDL              CT              1055               10   \n",
       "4               BDL              CT              1009               -6   \n",
       "\n",
       "   Arrival_delay  Arrival_schedule  Departure_schedule  Longitude  Latitude  \\\n",
       "0             -5              1859                1650     -72.68     41.93   \n",
       "1            -25              1859                1650     -72.68     41.93   \n",
       "2            -23              1310                1045     -72.68     41.93   \n",
       "3              0              1310                1045     -72.68     41.93   \n",
       "4            -41              1242                1015     -72.68     41.93   \n",
       "\n",
       "      Route  Day  Month  \n",
       "0  CT to KY    4      4  \n",
       "1  CT to KY    2      4  \n",
       "2  CT to KY    4      4  \n",
       "3  CT to KY    3      4  \n",
       "4  CT to KY    4     12  "
      ]
     },
     "execution_count": 18,
     "metadata": {},
     "output_type": "execute_result"
    }
   ],
   "source": [
    "# Drop DC_Longitude and DC_Latitude columns\n",
    "flights_2 = flights.drop([\"DC_Longitude\", \"DC_Latitude\", \"Arrival_actual\", \"Path_order\"], axis = 1)\n",
    "flights_2.head(5)"
   ]
  },
  {
   "cell_type": "markdown",
   "metadata": {},
   "source": [
    "It would be useful to consider some weather data for each airport too. We shall import this data below."
   ]
  },
  {
   "cell_type": "code",
   "execution_count": 19,
   "metadata": {},
   "outputs": [
    {
     "data": {
      "text/html": [
       "<div>\n",
       "<style>\n",
       "    .dataframe thead tr:only-child th {\n",
       "        text-align: right;\n",
       "    }\n",
       "\n",
       "    .dataframe thead th {\n",
       "        text-align: left;\n",
       "    }\n",
       "\n",
       "    .dataframe tbody tr th {\n",
       "        vertical-align: top;\n",
       "    }\n",
       "</style>\n",
       "<table border=\"1\" class=\"dataframe\">\n",
       "  <thead>\n",
       "    <tr style=\"text-align: right;\">\n",
       "      <th></th>\n",
       "      <th>Date</th>\n",
       "      <th>airport</th>\n",
       "      <th>time</th>\n",
       "      <th>temperature</th>\n",
       "      <th>snow</th>\n",
       "      <th>wind</th>\n",
       "    </tr>\n",
       "  </thead>\n",
       "  <tbody>\n",
       "    <tr>\n",
       "      <th>0</th>\n",
       "      <td>2006-03-14</td>\n",
       "      <td>ORD</td>\n",
       "      <td>2041</td>\n",
       "      <td>35</td>\n",
       "      <td>NaN</td>\n",
       "      <td>18.6</td>\n",
       "    </tr>\n",
       "    <tr>\n",
       "      <th>1</th>\n",
       "      <td>2006-09-08</td>\n",
       "      <td>SLC</td>\n",
       "      <td>807</td>\n",
       "      <td>72</td>\n",
       "      <td>NaN</td>\n",
       "      <td>6.5</td>\n",
       "    </tr>\n",
       "    <tr>\n",
       "      <th>2</th>\n",
       "      <td>2006-10-22</td>\n",
       "      <td>MCO</td>\n",
       "      <td>1202</td>\n",
       "      <td>81</td>\n",
       "      <td>0.0</td>\n",
       "      <td>3.1</td>\n",
       "    </tr>\n",
       "    <tr>\n",
       "      <th>3</th>\n",
       "      <td>2006-10-22</td>\n",
       "      <td>MCO</td>\n",
       "      <td>602</td>\n",
       "      <td>81</td>\n",
       "      <td>0.0</td>\n",
       "      <td>3.1</td>\n",
       "    </tr>\n",
       "    <tr>\n",
       "      <th>4</th>\n",
       "      <td>2007-07-09</td>\n",
       "      <td>MRY</td>\n",
       "      <td>1011</td>\n",
       "      <td>64</td>\n",
       "      <td>NaN</td>\n",
       "      <td>0.7</td>\n",
       "    </tr>\n",
       "  </tbody>\n",
       "</table>\n",
       "</div>"
      ],
      "text/plain": [
       "         Date airport  time  temperature  snow  wind\n",
       "0  2006-03-14     ORD  2041           35   NaN  18.6\n",
       "1  2006-09-08     SLC   807           72   NaN   6.5\n",
       "2  2006-10-22     MCO  1202           81   0.0   3.1\n",
       "3  2006-10-22     MCO   602           81   0.0   3.1\n",
       "4  2007-07-09     MRY  1011           64   NaN   0.7"
      ]
     },
     "execution_count": 19,
     "metadata": {},
     "output_type": "execute_result"
    }
   ],
   "source": [
    "weather = pd.read_csv(\"weather.csv\")\n",
    "weather.head(5)"
   ]
  },
  {
   "cell_type": "markdown",
   "metadata": {},
   "source": [
    "As can be seen above, the weather dataframe contains a \"time\" column. As these times do not exactly match with flight times from the flights dataframe, we shall drop this column. However, this means that on a given day at a given airport, there will be a lot of duplicate weather data for each airport. Hence, we have to use the drop_duplicates function to remove these duplicates. Lastly, we convert the Date to the relevant format."
   ]
  },
  {
   "cell_type": "code",
   "execution_count": 20,
   "metadata": {
    "collapsed": true
   },
   "outputs": [],
   "source": [
    "weather = weather.drop(\"time\", axis = 1)\n",
    "weather = weather.rename(columns = {\"airport\":\"Departure_Airport\"})\n",
    "weather = weather.drop_duplicates()\n",
    "weather[\"Date\"] = pd.to_datetime(weather[\"Date\"])"
   ]
  },
  {
   "cell_type": "markdown",
   "metadata": {},
   "source": [
    "Next, we merge the weather dataframe with the flights dataframe. As both dataframes have a common \"Date\" and \"Departure_Airport\" column, the merge will take place on these 2 columns. The type of join is \"inner\" as we only want the merge to take place for airports which have weather data for the given day. However, it is worth noting that this leads to a large loss in flights data as a number of airports don't have any corresponding weather data for some days. \n",
    "\n",
    "Also, as the \"snow\" and \"wind\" columns have a number of missing values, we fill each missing value with the mean of the respective column."
   ]
  },
  {
   "cell_type": "code",
   "execution_count": 21,
   "metadata": {
    "collapsed": true
   },
   "outputs": [],
   "source": [
    "joint_df = flights_2.merge(weather, on = [\"Date\", \"Departure_Airport\"], how = \"inner\")\n",
    "joint_df[\"snow\"] = joint_df[\"snow\"].fillna(joint_df[\"snow\"].mean())\n",
    "joint_df[\"wind\"] = joint_df[\"wind\"].fillna(joint_df[\"wind\"].mean())"
   ]
  },
  {
   "cell_type": "markdown",
   "metadata": {},
   "source": [
    "Now, we create a dataframe called X which stores all the features. For this, we dropped the \"Date\" column and \"Arrival_delay\" column from the  joint_df dataframe. The \"Date\" column isn't needed as we already have a column for Day and Month'. \"Arrival_delay\" is the variable we're trying to predict so this is the Y dataframe."
   ]
  },
  {
   "cell_type": "code",
   "execution_count": 22,
   "metadata": {
    "collapsed": true
   },
   "outputs": [],
   "source": [
    "# Dataframe containing features\n",
    "X = joint_df.drop([\"Date\", \"Arrival_delay\"], axis = 1)\n",
    "\n",
    "# Dataframe containing variable to predict (ie, Arrival_delay)\n",
    "Y = joint_df[\"Arrival_delay\"]"
   ]
  },
  {
   "cell_type": "markdown",
   "metadata": {},
   "source": [
    "A number of the features are categorical variables. The vast majority of machine learning models within the sklearn package cannot handle categorical data. As a result, before building any models, we need to convert the categorical features into dummy variables."
   ]
  },
  {
   "cell_type": "code",
   "execution_count": 23,
   "metadata": {},
   "outputs": [
    {
     "data": {
      "text/html": [
       "<div>\n",
       "<style>\n",
       "    .dataframe thead tr:only-child th {\n",
       "        text-align: right;\n",
       "    }\n",
       "\n",
       "    .dataframe thead th {\n",
       "        text-align: left;\n",
       "    }\n",
       "\n",
       "    .dataframe tbody tr th {\n",
       "        vertical-align: top;\n",
       "    }\n",
       "</style>\n",
       "<table border=\"1\" class=\"dataframe\">\n",
       "  <thead>\n",
       "    <tr style=\"text-align: right;\">\n",
       "      <th></th>\n",
       "      <th>Airline_code</th>\n",
       "      <th>Departure_actual</th>\n",
       "      <th>Departure_delay</th>\n",
       "      <th>Arrival_schedule</th>\n",
       "      <th>Departure_schedule</th>\n",
       "      <th>Longitude</th>\n",
       "      <th>Latitude</th>\n",
       "      <th>Day</th>\n",
       "      <th>Month</th>\n",
       "      <th>temperature</th>\n",
       "      <th>...</th>\n",
       "      <th>Route_WA to AZ</th>\n",
       "      <th>Route_WA to CA</th>\n",
       "      <th>Route_WA to MA</th>\n",
       "      <th>Route_WA to NC</th>\n",
       "      <th>Route_WA to OR</th>\n",
       "      <th>Route_WI to AZ</th>\n",
       "      <th>Route_WI to KY</th>\n",
       "      <th>Route_WV to KY</th>\n",
       "      <th>Route_WV to NC</th>\n",
       "      <th>Route_WY to CO</th>\n",
       "    </tr>\n",
       "  </thead>\n",
       "  <tbody>\n",
       "    <tr>\n",
       "      <th>0</th>\n",
       "      <td>20363</td>\n",
       "      <td>2059</td>\n",
       "      <td>-2</td>\n",
       "      <td>2256</td>\n",
       "      <td>2101</td>\n",
       "      <td>-83.35</td>\n",
       "      <td>42.21</td>\n",
       "      <td>3</td>\n",
       "      <td>4</td>\n",
       "      <td>42</td>\n",
       "      <td>...</td>\n",
       "      <td>0</td>\n",
       "      <td>0</td>\n",
       "      <td>0</td>\n",
       "      <td>0</td>\n",
       "      <td>0</td>\n",
       "      <td>0</td>\n",
       "      <td>0</td>\n",
       "      <td>0</td>\n",
       "      <td>0</td>\n",
       "      <td>0</td>\n",
       "    </tr>\n",
       "    <tr>\n",
       "      <th>1</th>\n",
       "      <td>20363</td>\n",
       "      <td>1448</td>\n",
       "      <td>-2</td>\n",
       "      <td>1620</td>\n",
       "      <td>1450</td>\n",
       "      <td>-83.35</td>\n",
       "      <td>42.21</td>\n",
       "      <td>3</td>\n",
       "      <td>4</td>\n",
       "      <td>42</td>\n",
       "      <td>...</td>\n",
       "      <td>0</td>\n",
       "      <td>0</td>\n",
       "      <td>0</td>\n",
       "      <td>0</td>\n",
       "      <td>0</td>\n",
       "      <td>0</td>\n",
       "      <td>0</td>\n",
       "      <td>0</td>\n",
       "      <td>0</td>\n",
       "      <td>0</td>\n",
       "    </tr>\n",
       "    <tr>\n",
       "      <th>2</th>\n",
       "      <td>19386</td>\n",
       "      <td>911</td>\n",
       "      <td>4</td>\n",
       "      <td>1108</td>\n",
       "      <td>907</td>\n",
       "      <td>-83.35</td>\n",
       "      <td>42.21</td>\n",
       "      <td>3</td>\n",
       "      <td>4</td>\n",
       "      <td>42</td>\n",
       "      <td>...</td>\n",
       "      <td>0</td>\n",
       "      <td>0</td>\n",
       "      <td>0</td>\n",
       "      <td>0</td>\n",
       "      <td>0</td>\n",
       "      <td>0</td>\n",
       "      <td>0</td>\n",
       "      <td>0</td>\n",
       "      <td>0</td>\n",
       "      <td>0</td>\n",
       "    </tr>\n",
       "    <tr>\n",
       "      <th>3</th>\n",
       "      <td>19386</td>\n",
       "      <td>624</td>\n",
       "      <td>-2</td>\n",
       "      <td>812</td>\n",
       "      <td>626</td>\n",
       "      <td>-83.35</td>\n",
       "      <td>42.21</td>\n",
       "      <td>3</td>\n",
       "      <td>4</td>\n",
       "      <td>42</td>\n",
       "      <td>...</td>\n",
       "      <td>0</td>\n",
       "      <td>0</td>\n",
       "      <td>0</td>\n",
       "      <td>0</td>\n",
       "      <td>0</td>\n",
       "      <td>0</td>\n",
       "      <td>0</td>\n",
       "      <td>0</td>\n",
       "      <td>0</td>\n",
       "      <td>0</td>\n",
       "    </tr>\n",
       "    <tr>\n",
       "      <th>4</th>\n",
       "      <td>19386</td>\n",
       "      <td>854</td>\n",
       "      <td>8</td>\n",
       "      <td>1032</td>\n",
       "      <td>846</td>\n",
       "      <td>-83.35</td>\n",
       "      <td>42.21</td>\n",
       "      <td>3</td>\n",
       "      <td>4</td>\n",
       "      <td>42</td>\n",
       "      <td>...</td>\n",
       "      <td>0</td>\n",
       "      <td>0</td>\n",
       "      <td>0</td>\n",
       "      <td>0</td>\n",
       "      <td>0</td>\n",
       "      <td>0</td>\n",
       "      <td>0</td>\n",
       "      <td>0</td>\n",
       "      <td>0</td>\n",
       "      <td>0</td>\n",
       "    </tr>\n",
       "  </tbody>\n",
       "</table>\n",
       "<p>5 rows × 456 columns</p>\n",
       "</div>"
      ],
      "text/plain": [
       "   Airline_code  Departure_actual  Departure_delay  Arrival_schedule  \\\n",
       "0         20363              2059               -2              2256   \n",
       "1         20363              1448               -2              1620   \n",
       "2         19386               911                4              1108   \n",
       "3         19386               624               -2               812   \n",
       "4         19386               854                8              1032   \n",
       "\n",
       "   Departure_schedule  Longitude  Latitude  Day  Month  temperature  \\\n",
       "0                2101     -83.35     42.21    3      4           42   \n",
       "1                1450     -83.35     42.21    3      4           42   \n",
       "2                 907     -83.35     42.21    3      4           42   \n",
       "3                 626     -83.35     42.21    3      4           42   \n",
       "4                 846     -83.35     42.21    3      4           42   \n",
       "\n",
       "        ...        Route_WA to AZ  Route_WA to CA  Route_WA to MA  \\\n",
       "0       ...                     0               0               0   \n",
       "1       ...                     0               0               0   \n",
       "2       ...                     0               0               0   \n",
       "3       ...                     0               0               0   \n",
       "4       ...                     0               0               0   \n",
       "\n",
       "   Route_WA to NC  Route_WA to OR  Route_WI to AZ  Route_WI to KY  \\\n",
       "0               0               0               0               0   \n",
       "1               0               0               0               0   \n",
       "2               0               0               0               0   \n",
       "3               0               0               0               0   \n",
       "4               0               0               0               0   \n",
       "\n",
       "   Route_WV to KY  Route_WV to NC  Route_WY to CO  \n",
       "0               0               0               0  \n",
       "1               0               0               0  \n",
       "2               0               0               0  \n",
       "3               0               0               0  \n",
       "4               0               0               0  \n",
       "\n",
       "[5 rows x 456 columns]"
      ]
     },
     "execution_count": 23,
     "metadata": {},
     "output_type": "execute_result"
    }
   ],
   "source": [
    "# Convert categoric variables to dummy variables\n",
    "X_dummy = pd.get_dummies(X)\n",
    "X_dummy.head()"
   ]
  },
  {
   "cell_type": "markdown",
   "metadata": {},
   "source": [
    "We want to create a model that performs well on unseen data. However, in reality, we won't have access to unseen data. This is where technqiues such as splitting the data into 2 sets (training and testing) or cross validation come in.\n",
    "\n",
    "We shall try the technique of splitting the data into 2 sets. The testing set will contain 25% of the observations and the training set will contain 75% of the observations."
   ]
  },
  {
   "cell_type": "code",
   "execution_count": 24,
   "metadata": {
    "collapsed": true
   },
   "outputs": [],
   "source": [
    "# Split into train and test sets\n",
    "X_train, X_test, Y_train, Y_test = train_test_split(X_dummy, Y, test_size=.25, random_state=0)"
   ]
  },
  {
   "cell_type": "markdown",
   "metadata": {},
   "source": [
    "For this exercise, we will consider 3 different regression techniques - linear regression, random forests and KNN. The models are initialised here."
   ]
  },
  {
   "cell_type": "code",
   "execution_count": 25,
   "metadata": {
    "collapsed": true
   },
   "outputs": [],
   "source": [
    "# Initialise the 3 regression models\n",
    "lin_reg = linear_model.LinearRegression()\n",
    "rand_for = RandomForestRegressor()\n",
    "neigh = KNeighborsRegressor()"
   ]
  },
  {
   "cell_type": "markdown",
   "metadata": {},
   "source": [
    "We then fit the models on the training data and then see how they perform on the testing data."
   ]
  },
  {
   "cell_type": "code",
   "execution_count": 26,
   "metadata": {},
   "outputs": [
    {
     "name": "stdout",
     "output_type": "stream",
     "text": [
      "Linear Regression Test MSE Estimate: 196.395247815\n",
      "Linear Regression Test R-squared Estimate: 0.80900106094\n"
     ]
    }
   ],
   "source": [
    "# Linear Regression\n",
    "lin_reg.fit(X_train, Y_train)\n",
    "lin_reg_pred = lin_reg.predict(X_test)\n",
    "print(\"Linear Regression Test MSE Estimate: \" + str(mean_squared_error(lin_reg_pred,Y_test)))\n",
    "print(\"Linear Regression Test R-squared Estimate: \" + str(r2_score(lin_reg_pred, Y_test)))\n"
   ]
  },
  {
   "cell_type": "code",
   "execution_count": 27,
   "metadata": {},
   "outputs": [
    {
     "name": "stdout",
     "output_type": "stream",
     "text": [
      "KNN Test MSE Estimate: 200.51911244\n",
      "KNN Test R-squared Estimate: 0.780036509326\n"
     ]
    }
   ],
   "source": [
    "# KNN\n",
    "neigh.fit(X_train, Y_train)\n",
    "KNN_pred = neigh.predict(X_test)\n",
    "print(\"KNN Test MSE Estimate: \" + str(mean_squared_error(KNN_pred,Y_test)))\n",
    "print(\"KNN Test R-squared Estimate: \" + str(r2_score(KNN_pred, Y_test)))"
   ]
  },
  {
   "cell_type": "code",
   "execution_count": 28,
   "metadata": {},
   "outputs": [
    {
     "name": "stdout",
     "output_type": "stream",
     "text": [
      "Random Forest Test MSE Estimate: 184.512032822\n",
      "Random Forest Test R-squared Estimate: 0.81988136932\n"
     ]
    }
   ],
   "source": [
    "# Random Forest\n",
    "rand_for.fit(X_train, Y_train)\n",
    "rand_for_pred = rand_for.predict(X_test)\n",
    "print(\"Random Forest Test MSE Estimate: \" + str(mean_squared_error(rand_for_pred,Y_test)))\n",
    "print(\"Random Forest Test R-squared Estimate: \" + str(r2_score(rand_for_pred, Y_test)))"
   ]
  },
  {
   "cell_type": "markdown",
   "metadata": {},
   "source": [
    "As can be seen above, all 3 models perform very similarly to each other. To try and get a better idea of the quality of the model's predictions, we plot the true values vs predicted values for each model below. The red line corresponds to the y = x line. ie, it indicates what the \"perfect\" model performance would look like. "
   ]
  },
  {
   "cell_type": "code",
   "execution_count": 29,
   "metadata": {},
   "outputs": [
    {
     "data": {
      "image/png": "[encoded data removed]",
      "text/plain": [
       "<matplotlib.figure.Figure at 0x1c1485b128>"
      ]
     },
     "metadata": {},
     "output_type": "display_data"
    }
   ],
   "source": [
    "fig, ax = plt.subplots(nrows = 3, figsize = (14,12))\n",
    "\n",
    "# Plotting true value vs predicted value for Linear Regression\n",
    "ax[0].scatter(lin_reg_pred, Y_test)\n",
    "# Plotting Y=X line. \"Perfect\" prediction.\n",
    "x = np.arange(-100,700)\n",
    "ax[0].plot(x, x, color = \"red\")\n",
    "ax[0].set_xlabel(\"Predicted Value\")\n",
    "ax[0].set_ylabel(\"True Value\")\n",
    "ax[0].set_title(\"Linear Regression\")\n",
    "\n",
    "# Plotting true value vs predicted value for KNN\n",
    "ax[1].scatter(KNN_pred, Y_test)\n",
    "ax[1].plot(x, x, color = \"red\")\n",
    "ax[1].set_xlabel(\"Predicted Value\")\n",
    "ax[1].set_ylabel(\"True Value\")\n",
    "ax[1].set_title(\"KNN\")\n",
    "\n",
    "# Plotting true value vs predicted value for Random Forest. \n",
    "ax[2].scatter(rand_for_pred, Y_test)\n",
    "ax[2].plot(x, x, color = \"red\")\n",
    "ax[2].set_xlabel(\"Predicted Value\")\n",
    "ax[2].set_ylabel(\"True Value\")\n",
    "ax[2].set_title(\"Random Forest\")\n",
    "\n",
    "fig.subplots_adjust(hspace=0.5)\n",
    "\n",
    "plt.show()"
   ]
  },
  {
   "cell_type": "markdown",
   "metadata": {},
   "source": [
    "It seems that the linear regression (apart from the one observation that was poorly predicted) and random forest models have the most consistent residual pattern. The KNN seem to consistently under-predict the larger delays.\n",
    "\n",
    "Hence, if the main aim of this model is prediction, it would be best to pick the Random Forest model. If you are more conernced with picking an interpretable model, it may be best to pick the Linear Regression model as they are very easy to interpret and explain to a client who comes from a non-technical background. "
   ]
  },
  {
   "cell_type": "markdown",
   "metadata": {},
   "source": [
    "### Conclusion"
   ]
  },
  {
   "cell_type": "markdown",
   "metadata": {},
   "source": [
    "To conclude, we managed to find a number of interesting insights.\n",
    "\n",
    "* It seems that NW airline is the worst performing airline in terms of punctuality.\n",
    "* Out of all airports with more than 100 flight departures, airport LMT is the worst in terms of flight punctuality.\n",
    "* Out of all the routes with more than 100 flights, route NJ to OK is the worst in terms of flight punctuality.\n",
    "* Thursday and Friday tend to have the largest flight delays. Saturday has the least.\n",
    "* The Summer months and December have the largest flight delays.\n",
    "* The mean delay time increased between the years 2002 and 2007 and then generally decreased from there onwards.\n",
    "* Linear Regression, KNN and Random Forest all seem to perform fairly well in predicting arrival delay.\n",
    "* If concerned with prediction accuracy, Random Forest would be the best model to pick.\n",
    "* If concerned with intepretation of the model, would be worth picking the linear regression model.\n",
    "\n",
    "### Improvements\n",
    "\n",
    "* Try to think of a way of using the weather data without losing observations from the flights data set. \n",
    "* Perhaps perform feature selection? Thought it wasn't possible to do this when dummy variables are present.\n",
    "* Worth trying Cross Validation to estimate test MSE rather than simply splitting the data into 2 sets. This would give a more accurate test MSE estimate - the variance of the estimate is a lot smaller.  \n",
    "* Experiment with each model's parameters. Eg, maybe the default K (K = 5) for KNN isn't the best K to use here.\n"
   ]
  }
 ],
 "metadata": {
  "kernelspec": {
   "display_name": "Python 3",
   "language": "python",
   "name": "python3"
  },
  "language_info": {
   "codemirror_mode": {
    "name": "ipython",
    "version": 3
   },
   "file_extension": ".py",
   "mimetype": "text/x-python",
   "name": "python",
   "nbconvert_exporter": "python",
   "pygments_lexer": "ipython3",
   "version": "3.6.2"
  }
 },
 "nbformat": 4,
 "nbformat_minor": 2
}
